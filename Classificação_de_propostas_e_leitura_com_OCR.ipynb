{
  "nbformat": 4,
  "nbformat_minor": 0,
  "metadata": {
    "colab": {
      "name": "Classificação de propostas e leitura com OCR",
      "provenance": [],
      "collapsed_sections": [],
      "authorship_tag": "ABX9TyOAm+zgJYnsIzNWSywZJsNP",
      "include_colab_link": true
    },
    "kernelspec": {
      "name": "python3",
      "display_name": "Python 3"
    },
    "language_info": {
      "name": "python"
    }
  },
  "cells": [
    {
      "cell_type": "markdown",
      "metadata": {
        "id": "view-in-github",
        "colab_type": "text"
      },
      "source": [
        "<a href=\"https://colab.research.google.com/github/PauloSouza-GV/Jupyter/blob/master/Classifica%C3%A7%C3%A3o_de_propostas_e_leitura_com_OCR.ipynb\" target=\"_parent\"><img src=\"https://colab.research.google.com/assets/colab-badge.svg\" alt=\"Open In Colab\"/></a>"
      ]
    },
    {
      "cell_type": "markdown",
      "metadata": {
        "id": "ESeyaw7sIDfn"
      },
      "source": [
        "<img src='https://www.moradadapaz.com.br/app/themes/mobister/dist/images/logo-desk.png'>"
      ]
    },
    {
      "cell_type": "markdown",
      "metadata": {
        "id": "H8nd1MeVHjZQ"
      },
      "source": [
        "# **Classificação e leitura automática de propostas**"
      ]
    },
    {
      "cell_type": "markdown",
      "metadata": {
        "id": "Sguwcx-gILeH"
      },
      "source": [
        "**Introdução, objetivos e especificações**"
      ]
    },
    {
      "cell_type": "markdown",
      "metadata": {
        "id": "do6uTLAYJIvP"
      },
      "source": [
        "É comum que empresas que realizem vendas, possuam sistemas próprios para cadastro e controle, muitas empresas também não possuem formulários inteligentes para os clientes, necessitando que seja feito o preenchimento de uma proposta fisica, que posteriormente será armazenada no sistema através da digitação de algum operador. \n",
        "<br>Este processo além de custoso, gera erros operacionais e muitas vezes é um processo demorado."
      ]
    },
    {
      "cell_type": "markdown",
      "metadata": {
        "id": "Pc-tHxf2JFOx"
      },
      "source": [
        ">**Objetivos**"
      ]
    },
    {
      "cell_type": "markdown",
      "metadata": {
        "id": "bMe0imjuKL7x"
      },
      "source": [
        "Realizar a leitura da proposta fisica através de um OCR, criação de uma Bag of Words dessa leitura e fazer predições de montagem e entrega. Também serão feitas algumas medições para informar o perfil médio de pagamento da localidade."
      ]
    },
    {
      "cell_type": "markdown",
      "metadata": {
        "id": "RnVCLMXpKgCj"
      },
      "source": [
        ">**Especificações técnicas**"
      ]
    },
    {
      "cell_type": "markdown",
      "metadata": {
        "id": "KVnd_398KkvA"
      },
      "source": [
        "Dataset: Para este projeto será utilizada uma database própria, extraída da empresa alvo.\n",
        "\n",
        "Formato: A base de dados estará em formato CSV, com separador em ;(ponto e virgula) e estará dividida em certas colunas, são elas:\n",
        "\n",
        "1.   **Estado:** Estado federativo do cliente\n",
        "2.   **Cidade** Cidade do cliente\n",
        "3.   **Bairro:** Bairro do cliente\n",
        "4.   **Emissão:** Emissão da proposta\n",
        "5.   **Entrega:** Entrega do objeto da proposta\n",
        "5.   **Cliente(anonimizado):** Código de referencia para o cliente\n",
        "6.   **Situação da mensalidade:** Situação financeiro do cliente na base\n",
        "\n",
        "Metodos de pré-processamento:\n",
        "\n",
        "\n",
        "*   Remoção de dados nulos\n",
        "*   Retirada de espaços em branco desnecessários e caracteres especiais e acentuações\n",
        "*   Remoção de dados duplicados\n",
        "*   Será realiza a transformação dos campos de data e valores\n",
        "*   Será feita a discretização no campo de situação da mensalidade\n",
        "\n",
        "\n",
        "Algoritimos que seram utilizados na predição de montagem e medições:\n",
        "\n",
        "\n",
        "\n",
        "\n"
      ]
    },
    {
      "cell_type": "markdown",
      "metadata": {
        "id": "_-VMcnY5uznc"
      },
      "source": [
        "# Leitura da proposta"
      ]
    },
    {
      "cell_type": "code",
      "metadata": {
        "colab": {
          "base_uri": "https://localhost:8080/"
        },
        "id": "Efccxkjju2lW",
        "outputId": "3bd2f176-3cb3-4248-c257-8253724851f0"
      },
      "source": [
        "#Primeiramente será iniciado a instalação do PyTesseract\n",
        "!sudo apt install tesseract-ocr\n",
        "!pip install pytesseract"
      ],
      "execution_count": 1,
      "outputs": [
        {
          "output_type": "stream",
          "name": "stdout",
          "text": [
            "Reading package lists... Done\n",
            "Building dependency tree       \n",
            "Reading state information... Done\n",
            "The following additional packages will be installed:\n",
            "  tesseract-ocr-eng tesseract-ocr-osd\n",
            "The following NEW packages will be installed:\n",
            "  tesseract-ocr tesseract-ocr-eng tesseract-ocr-osd\n",
            "0 upgraded, 3 newly installed, 0 to remove and 37 not upgraded.\n",
            "Need to get 4,795 kB of archives.\n",
            "After this operation, 15.8 MB of additional disk space will be used.\n",
            "Get:1 http://archive.ubuntu.com/ubuntu bionic/universe amd64 tesseract-ocr-eng all 4.00~git24-0e00fe6-1.2 [1,588 kB]\n",
            "Get:2 http://archive.ubuntu.com/ubuntu bionic/universe amd64 tesseract-ocr-osd all 4.00~git24-0e00fe6-1.2 [2,989 kB]\n",
            "Get:3 http://archive.ubuntu.com/ubuntu bionic/universe amd64 tesseract-ocr amd64 4.00~git2288-10f4998a-2 [218 kB]\n",
            "Fetched 4,795 kB in 2s (2,798 kB/s)\n",
            "debconf: unable to initialize frontend: Dialog\n",
            "debconf: (No usable dialog-like program is installed, so the dialog based frontend cannot be used. at /usr/share/perl5/Debconf/FrontEnd/Dialog.pm line 76, <> line 3.)\n",
            "debconf: falling back to frontend: Readline\n",
            "debconf: unable to initialize frontend: Readline\n",
            "debconf: (This frontend requires a controlling tty.)\n",
            "debconf: falling back to frontend: Teletype\n",
            "dpkg-preconfigure: unable to re-open stdin: \n",
            "Selecting previously unselected package tesseract-ocr-eng.\n",
            "(Reading database ... 155222 files and directories currently installed.)\n",
            "Preparing to unpack .../tesseract-ocr-eng_4.00~git24-0e00fe6-1.2_all.deb ...\n",
            "Unpacking tesseract-ocr-eng (4.00~git24-0e00fe6-1.2) ...\n",
            "Selecting previously unselected package tesseract-ocr-osd.\n",
            "Preparing to unpack .../tesseract-ocr-osd_4.00~git24-0e00fe6-1.2_all.deb ...\n",
            "Unpacking tesseract-ocr-osd (4.00~git24-0e00fe6-1.2) ...\n",
            "Selecting previously unselected package tesseract-ocr.\n",
            "Preparing to unpack .../tesseract-ocr_4.00~git2288-10f4998a-2_amd64.deb ...\n",
            "Unpacking tesseract-ocr (4.00~git2288-10f4998a-2) ...\n",
            "Setting up tesseract-ocr-osd (4.00~git24-0e00fe6-1.2) ...\n",
            "Setting up tesseract-ocr-eng (4.00~git24-0e00fe6-1.2) ...\n",
            "Setting up tesseract-ocr (4.00~git2288-10f4998a-2) ...\n",
            "Processing triggers for man-db (2.8.3-2ubuntu0.1) ...\n",
            "Collecting pytesseract\n",
            "  Downloading pytesseract-0.3.8.tar.gz (14 kB)\n",
            "Requirement already satisfied: Pillow in /usr/local/lib/python3.7/dist-packages (from pytesseract) (7.1.2)\n",
            "Building wheels for collected packages: pytesseract\n",
            "  Building wheel for pytesseract (setup.py) ... \u001b[?25l\u001b[?25hdone\n",
            "  Created wheel for pytesseract: filename=pytesseract-0.3.8-py2.py3-none-any.whl size=14072 sha256=b66c0332b2068f1a24905bb53c556e024eca8968f753ab01d442a4a8ea9d6d2f\n",
            "  Stored in directory: /root/.cache/pip/wheels/a4/89/b9/3f11250225d0f90e5454fcc30fd1b7208db226850715aa9ace\n",
            "Successfully built pytesseract\n",
            "Installing collected packages: pytesseract\n",
            "Successfully installed pytesseract-0.3.8\n"
          ]
        }
      ]
    },
    {
      "cell_type": "code",
      "metadata": {
        "id": "8W3gzI60vEoE"
      },
      "source": [
        "#Será feito a importação das bibliotecas\n",
        "import pytesseract\n",
        "import shutil\n",
        "import os\n",
        "import random\n",
        "try:\n",
        "  from PIL import Image\n",
        "except ImportError:\n",
        "  import Image"
      ],
      "execution_count": 2,
      "outputs": []
    },
    {
      "cell_type": "code",
      "metadata": {
        "colab": {
          "resources": {
            "http://localhost:8080/nbextensions/google.colab/files.js": {
              "data": "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",
              "ok": true,
              "headers": [
                [
                  "content-type",
                  "application/javascript"
                ]
              ],
              "status": 200,
              "status_text": ""
            }
          },
          "base_uri": "https://localhost:8080/",
          "height": 55
        },
        "id": "NDfCXxOgvZwQ",
        "outputId": "b00def41-885f-43fb-dd8b-8f2e5e9660b7"
      },
      "source": [
        "# Chama o dialog para fazer o upload da imagem\n",
        "from google.colab import files\n",
        "uploaded = files.upload()\n",
        "fileOCR=\"\"\n",
        "\n",
        "for fn in uploaded.keys():\n",
        "  fileOCR=fn"
      ],
      "execution_count": 3,
      "outputs": [
        {
          "output_type": "display_data",
          "data": {
            "text/html": [
              "\n",
              "     <input type=\"file\" id=\"files-2d58c0bc-a8c5-464f-ab27-de651697cfda\" name=\"files[]\" multiple disabled\n",
              "        style=\"border:none\" />\n",
              "     <output id=\"result-2d58c0bc-a8c5-464f-ab27-de651697cfda\">\n",
              "      Upload widget is only available when the cell has been executed in the\n",
              "      current browser session. Please rerun this cell to enable.\n",
              "      </output>\n",
              "      <script src=\"/nbextensions/google.colab/files.js\"></script> "
            ],
            "text/plain": [
              "<IPython.core.display.HTML object>"
            ]
          },
          "metadata": {}
        },
        {
          "output_type": "stream",
          "name": "stdout",
          "text": [
            "Saving 0001.jpg to 0001.jpg\n"
          ]
        }
      ]
    },
    {
      "cell_type": "code",
      "metadata": {
        "id": "g0fBV5prv587"
      },
      "source": [
        "# Começa a extração das informações\n",
        "ExtractedInformation=pytesseract.image_to_string(Image.open(fileOCR), lang='eng')"
      ],
      "execution_count": 4,
      "outputs": []
    },
    {
      "cell_type": "code",
      "metadata": {
        "id": "OMIxn5_IyBgV",
        "colab": {
          "base_uri": "https://localhost:8080/"
        },
        "outputId": "92ae383d-f308-45b8-9491-0ee9bb89a371"
      },
      "source": [
        "# Imprime o documento em formato texto\n",
        "print( ExtractedInformation )"
      ],
      "execution_count": 5,
      "outputs": [
        {
          "output_type": "stream",
          "name": "stdout",
          "text": [
            "Proposta de venda\n",
            "\n",
            "PROPOSTA DE VENDA N° 00253052\n",
            "\n",
            "01. Plano\n",
            "(| )Sempre\n",
            "( X )Essencial\n",
            "\n",
            "02. Sexo do cliente\n",
            "\n",
            "( X ) Masculino\n",
            "\n",
            "( ) Feminino\n",
            "\n",
            "( ) Outros\n",
            "\n",
            "03. Nome do Cliente\n",
            "\n",
            "Paulo Henrique Liberato de Souza\n",
            "04. CPF:\n",
            "\n",
            "071.730.934-73\n",
            "\n",
            "05. Endereco\n",
            "\n",
            " \n",
            "\n",
            "Estado: RN\n",
            "\n",
            " \n",
            "\n",
            "Municipio: Natal\n",
            "\n",
            " \n",
            "\n",
            "Bairro: Centro\n",
            "\n",
            " \n",
            "\n",
            " \n",
            "\n",
            "Endereg¢o: Rua Rolddo Augusto Botelho\n",
            "\n",
            " \n",
            "\n",
            " \n",
            "\f\n"
          ]
        }
      ]
    },
    {
      "cell_type": "code",
      "metadata": {
        "id": "R0m6T9NZAfLh"
      },
      "source": [
        "# realizando algumas limpezas e padronizações\n",
        "import re\n",
        "ExtractedInformation = re.sub('[^A-Za-z]', ' ', ExtractedInformation)\n",
        "ExtractedInformation = ExtractedInformation.lower()             "
      ],
      "execution_count": 6,
      "outputs": []
    },
    {
      "cell_type": "code",
      "metadata": {
        "id": "HHzYPbDE2GHA",
        "colab": {
          "base_uri": "https://localhost:8080/"
        },
        "outputId": "89a26770-8d8b-4e23-d995-995510bc4146"
      },
      "source": [
        "# criando e aplicando o vetorizador\n",
        "from sklearn.feature_extraction.text import CountVectorizer\n",
        "bag=ExtractedInformation\n",
        "bag = bag.split('\\n')\n",
        "vectorizer = CountVectorizer()\n",
        "vectorizer.fit(bag)\n",
        "\n",
        "# Imprimindo o vocabulario\n",
        "print(vectorizer.vocabulary_)\n",
        "\n",
        "#transformando em vetor para futuramente ser utilizado para identificação da proposta especifica\n",
        "matrix=vectorizer.transform(bag)"
      ],
      "execution_count": 7,
      "outputs": [
        {
          "output_type": "stream",
          "name": "stdout",
          "text": [
            "{'proposta': 22, 'de': 6, 'venda': 29, 'plano': 21, 'sempre': 26, 'essencial': 10, 'sexo': 27, 'do': 7, 'cliente': 4, 'masculino': 15, 'feminino': 12, 'outros': 19, 'nome': 18, 'paulo': 20, 'henrique': 13, 'liberato': 14, 'souza': 28, 'cpf': 5, 'endereco': 8, 'estado': 11, 'rn': 23, 'municipio': 16, 'natal': 17, 'bairro': 1, 'centro': 3, 'endereg': 9, 'rua': 25, 'rolddo': 24, 'augusto': 0, 'botelho': 2}\n"
          ]
        }
      ]
    },
    {
      "cell_type": "markdown",
      "metadata": {
        "id": "ese_fujiJXwn"
      },
      "source": [
        "# Busca informações da base"
      ]
    },
    {
      "cell_type": "code",
      "metadata": {
        "id": "eXVGat0IJc3P"
      },
      "source": [
        "#Realizando a declaração dos imports\n",
        "%matplotlib inline \n",
        "import pandas as pd \n",
        "import matplotlib.pyplot as plt\n",
        "import seaborn as sns\n",
        "import numpy as np\n",
        "import os as system\n",
        "import locale\n",
        "from matplotlib.colors import ListedColormap\n",
        "from sklearn.preprocessing import LabelEncoder, StandardScaler\n",
        "from sklearn.neighbors import KNeighborsClassifier\n",
        "from sklearn.linear_model import LinearRegression\n",
        "from sklearn.model_selection import train_test_split\n",
        "from sklearn import svm "
      ],
      "execution_count": 90,
      "outputs": []
    },
    {
      "cell_type": "code",
      "metadata": {
        "colab": {
          "base_uri": "https://localhost:8080/",
          "height": 35
        },
        "id": "LzZvheTlKDRB",
        "outputId": "d14052bf-22fb-42f2-f783-7c16b2007d66"
      },
      "source": [
        "#Configurações monetárias\n",
        "locale.setlocale( locale.LC_MONETARY, 'en_US.utf8' )"
      ],
      "execution_count": 91,
      "outputs": [
        {
          "output_type": "execute_result",
          "data": {
            "application/vnd.google.colaboratory.intrinsic+json": {
              "type": "string"
            },
            "text/plain": [
              "'en_US.utf8'"
            ]
          },
          "metadata": {},
          "execution_count": 91
        }
      ]
    },
    {
      "cell_type": "code",
      "metadata": {
        "id": "1hSwAGClKJyO"
      },
      "source": [
        "#Informo qual o stylo que será plotado dos graficos\n",
        "plt.style.use('grayscale')"
      ],
      "execution_count": 92,
      "outputs": []
    },
    {
      "cell_type": "code",
      "metadata": {
        "colab": {
          "base_uri": "https://localhost:8080/",
          "height": 263
        },
        "id": "ZU3J_cMHKKIs",
        "outputId": "aa42ef02-7610-4190-8efc-5e70e63d4c49"
      },
      "source": [
        "#Em seguida irei realizar a leitura inicial do arquivo e armazenar em uma váriavel\n",
        "csv = pd.read_csv( '0002.csv',sep=';', encoding = 'ISO-8859-1',error_bad_lines=False)\n",
        "lista = pd.DataFrame( csv )\n",
        "lista.columns = ['Estado', 'Municipio', 'Bairro', 'Emissao', 'Entrega', 'Cliente', 'Aberto Regular', 'Aberto Atrasado', 'Baixado Atrasado', 'Baixado Regular', ]\n",
        "lista.head(5)"
      ],
      "execution_count": 100,
      "outputs": [
        {
          "output_type": "stream",
          "name": "stderr",
          "text": [
            "/usr/local/lib/python3.7/dist-packages/IPython/core/interactiveshell.py:2718: DtypeWarning: Columns (3) have mixed types.Specify dtype option on import or set low_memory=False.\n",
            "  interactivity=interactivity, compiler=compiler, result=result)\n"
          ]
        },
        {
          "output_type": "execute_result",
          "data": {
            "text/html": [
              "<div>\n",
              "<style scoped>\n",
              "    .dataframe tbody tr th:only-of-type {\n",
              "        vertical-align: middle;\n",
              "    }\n",
              "\n",
              "    .dataframe tbody tr th {\n",
              "        vertical-align: top;\n",
              "    }\n",
              "\n",
              "    .dataframe thead th {\n",
              "        text-align: right;\n",
              "    }\n",
              "</style>\n",
              "<table border=\"1\" class=\"dataframe\">\n",
              "  <thead>\n",
              "    <tr style=\"text-align: right;\">\n",
              "      <th></th>\n",
              "      <th>Estado</th>\n",
              "      <th>Municipio</th>\n",
              "      <th>Bairro</th>\n",
              "      <th>Emissao</th>\n",
              "      <th>Entrega</th>\n",
              "      <th>Cliente</th>\n",
              "      <th>Aberto Regular</th>\n",
              "      <th>Aberto Atrasado</th>\n",
              "      <th>Baixado Atrasado</th>\n",
              "      <th>Baixado Regular</th>\n",
              "    </tr>\n",
              "  </thead>\n",
              "  <tbody>\n",
              "    <tr>\n",
              "      <th>0</th>\n",
              "      <td>PE</td>\n",
              "      <td>PAULISTA                                      ...</td>\n",
              "      <td>ARTHUR LUNDGREN I</td>\n",
              "      <td>20070413</td>\n",
              "      <td>NaN</td>\n",
              "      <td>300801</td>\n",
              "      <td>19</td>\n",
              "      <td>0</td>\n",
              "      <td>3</td>\n",
              "      <td>14</td>\n",
              "    </tr>\n",
              "    <tr>\n",
              "      <th>1</th>\n",
              "      <td>PE</td>\n",
              "      <td>SAO LOURENCO DA MATA                          ...</td>\n",
              "      <td>CAPIBARIBE</td>\n",
              "      <td>20070918</td>\n",
              "      <td>NaN</td>\n",
              "      <td>301867</td>\n",
              "      <td>12</td>\n",
              "      <td>0</td>\n",
              "      <td>0</td>\n",
              "      <td>0</td>\n",
              "    </tr>\n",
              "    <tr>\n",
              "      <th>2</th>\n",
              "      <td>PE</td>\n",
              "      <td>RECIFE                                        ...</td>\n",
              "      <td>ENCRUZILHADA</td>\n",
              "      <td>20090217</td>\n",
              "      <td>20090317</td>\n",
              "      <td>149735</td>\n",
              "      <td>12</td>\n",
              "      <td>0</td>\n",
              "      <td>0</td>\n",
              "      <td>1</td>\n",
              "    </tr>\n",
              "    <tr>\n",
              "      <th>3</th>\n",
              "      <td>PE</td>\n",
              "      <td>PAULISTA                                      ...</td>\n",
              "      <td>SITIO FRAGOSO</td>\n",
              "      <td>20090216</td>\n",
              "      <td>20090311</td>\n",
              "      <td>149596</td>\n",
              "      <td>11</td>\n",
              "      <td>0</td>\n",
              "      <td>1</td>\n",
              "      <td>1</td>\n",
              "    </tr>\n",
              "    <tr>\n",
              "      <th>4</th>\n",
              "      <td>PE</td>\n",
              "      <td>RECIFE                                        ...</td>\n",
              "      <td>UR 11, IBURA</td>\n",
              "      <td>20090423</td>\n",
              "      <td>20090519</td>\n",
              "      <td>158199</td>\n",
              "      <td>6</td>\n",
              "      <td>0</td>\n",
              "      <td>2</td>\n",
              "      <td>5</td>\n",
              "    </tr>\n",
              "  </tbody>\n",
              "</table>\n",
              "</div>"
            ],
            "text/plain": [
              "  Estado  ... Baixado Regular\n",
              "0     PE  ...              14\n",
              "1     PE  ...               0\n",
              "2     PE  ...               1\n",
              "3     PE  ...               1\n",
              "4     PE  ...               5\n",
              "\n",
              "[5 rows x 10 columns]"
            ]
          },
          "metadata": {},
          "execution_count": 100
        }
      ]
    },
    {
      "cell_type": "code",
      "metadata": {
        "colab": {
          "base_uri": "https://localhost:8080/"
        },
        "id": "dN0NIhLWYGtV",
        "outputId": "e1f2f541-cc02-4032-98e2-4fd2ac11455a"
      },
      "source": [
        "# Pego as informações das colunas\n",
        "lista.info()"
      ],
      "execution_count": 101,
      "outputs": [
        {
          "output_type": "stream",
          "name": "stdout",
          "text": [
            "<class 'pandas.core.frame.DataFrame'>\n",
            "RangeIndex: 117543 entries, 0 to 117542\n",
            "Data columns (total 10 columns):\n",
            " #   Column            Non-Null Count   Dtype \n",
            "---  ------            --------------   ----- \n",
            " 0   Estado            117543 non-null  object\n",
            " 1   Municipio         117543 non-null  object\n",
            " 2   Bairro            117543 non-null  object\n",
            " 3   Emissao           117543 non-null  object\n",
            " 4   Entrega           110539 non-null  object\n",
            " 5   Cliente           117543 non-null  object\n",
            " 6   Aberto Regular    117543 non-null  int64 \n",
            " 7   Aberto Atrasado   117543 non-null  int64 \n",
            " 8   Baixado Atrasado  117543 non-null  int64 \n",
            " 9   Baixado Regular   117543 non-null  int64 \n",
            "dtypes: int64(4), object(6)\n",
            "memory usage: 9.0+ MB\n"
          ]
        }
      ]
    },
    {
      "cell_type": "code",
      "metadata": {
        "colab": {
          "base_uri": "https://localhost:8080/"
        },
        "id": "wkz2zKVcYXrA",
        "outputId": "7a3019a1-644a-495c-f28a-ec5de064e5ed"
      },
      "source": [
        "# verifico se existem dados nulo\n",
        "lista.isnull().sum()\n",
        "\n",
        "# Removendo espaços vazios e em branco\n",
        "df_remove = lista.loc[ lista['Entrega'] == '        ' ]\n",
        "lista = lista.drop(df_remove.index)\n",
        "\n",
        "df_remove = lista.loc[ lista['Emissao'] == '        ' ]\n",
        "lista = lista.drop(df_remove.index)\n",
        "\n",
        "#Como não possuo informações para substituição dos nulos, irei remover do dataframe\n",
        "#Primeiramente realizo a retirada das linhas adicionais, que possuem tudo nulo\n",
        "lista = lista.dropna()\n",
        "\n",
        "#Verifico se a limpeza deu certo\n",
        "lista.isnull().sum()"
      ],
      "execution_count": 102,
      "outputs": [
        {
          "output_type": "execute_result",
          "data": {
            "text/plain": [
              "Estado              0\n",
              "Municipio           0\n",
              "Bairro              0\n",
              "Emissao             0\n",
              "Entrega             0\n",
              "Cliente             0\n",
              "Aberto Regular      0\n",
              "Aberto Atrasado     0\n",
              "Baixado Atrasado    0\n",
              "Baixado Regular     0\n",
              "dtype: int64"
            ]
          },
          "metadata": {},
          "execution_count": 102
        }
      ]
    },
    {
      "cell_type": "code",
      "metadata": {
        "id": "54QFiuQJYwKM"
      },
      "source": [
        "# removendo registros duplicados\n",
        "lista = lista.drop_duplicates()"
      ],
      "execution_count": 96,
      "outputs": []
    },
    {
      "cell_type": "code",
      "metadata": {
        "colab": {
          "base_uri": "https://localhost:8080/",
          "height": 424
        },
        "id": "un_WLQbVZmN4",
        "outputId": "3025f762-95fa-417f-f171-071b9aa295c3"
      },
      "source": [
        "# Realizando a transformação de alguns dados\n",
        "from datetime import datetime\n",
        "\n",
        "def dataInvalida( dateCalendario ):\n",
        "  try:\n",
        "    x = datetime.strptime(dateCalendario, '%Y%m%d')\n",
        "  except:\n",
        "    x = datetime.strptime('20210101', '%Y%m%d')\n",
        "  return x\n",
        "\n",
        "lista['Entrega'] = lista['Entrega'].map( lambda x: dataInvalida(x) )\n",
        "lista['Emissao'] = lista['Emissao'].map( lambda x: dataInvalida(x) )\n",
        "\n",
        "# substituindo coluncas\n",
        "conditions = [ lista['Aberto Atrasado'] > 5 ]\n",
        "choices = ['Inadimplente']\n",
        "lista['status'] = np.select(conditions, choices, default='Regular')\n",
        "\n",
        "#Retirando espaços desnecessários\n",
        "lista['Municipio'] = lista['Municipio'].str.replace(' ', '')\n",
        "lista['Bairro'] = lista['Bairro'].str.replace(' ', '')\n",
        "\n",
        "# Dropando colunas desnecessarias\n",
        "lista = lista.drop( columns=['Aberto Atrasado'] )\n",
        "lista = lista.drop( columns=['Baixado Atrasado'] )\n",
        "lista = lista.drop( columns=['Aberto Regular'] )\n",
        "lista = lista.drop( columns=['Baixado Regular'] )\n",
        "\n",
        "# Verificando resultado\n",
        "lista"
      ],
      "execution_count": 103,
      "outputs": [
        {
          "output_type": "execute_result",
          "data": {
            "text/html": [
              "<div>\n",
              "<style scoped>\n",
              "    .dataframe tbody tr th:only-of-type {\n",
              "        vertical-align: middle;\n",
              "    }\n",
              "\n",
              "    .dataframe tbody tr th {\n",
              "        vertical-align: top;\n",
              "    }\n",
              "\n",
              "    .dataframe thead th {\n",
              "        text-align: right;\n",
              "    }\n",
              "</style>\n",
              "<table border=\"1\" class=\"dataframe\">\n",
              "  <thead>\n",
              "    <tr style=\"text-align: right;\">\n",
              "      <th></th>\n",
              "      <th>Estado</th>\n",
              "      <th>Municipio</th>\n",
              "      <th>Bairro</th>\n",
              "      <th>Emissao</th>\n",
              "      <th>Entrega</th>\n",
              "      <th>Cliente</th>\n",
              "      <th>status</th>\n",
              "    </tr>\n",
              "  </thead>\n",
              "  <tbody>\n",
              "    <tr>\n",
              "      <th>2</th>\n",
              "      <td>PE</td>\n",
              "      <td>RECIFE</td>\n",
              "      <td>ENCRUZILHADA</td>\n",
              "      <td>2021-01-01</td>\n",
              "      <td>2009-03-17 00:00:00</td>\n",
              "      <td>149735</td>\n",
              "      <td>Regular</td>\n",
              "    </tr>\n",
              "    <tr>\n",
              "      <th>3</th>\n",
              "      <td>PE</td>\n",
              "      <td>PAULISTA</td>\n",
              "      <td>SITIOFRAGOSO</td>\n",
              "      <td>2021-01-01</td>\n",
              "      <td>2009-03-11 00:00:00</td>\n",
              "      <td>149596</td>\n",
              "      <td>Regular</td>\n",
              "    </tr>\n",
              "    <tr>\n",
              "      <th>4</th>\n",
              "      <td>PE</td>\n",
              "      <td>RECIFE</td>\n",
              "      <td>UR11,IBURA</td>\n",
              "      <td>2021-01-01</td>\n",
              "      <td>2009-05-19 00:00:00</td>\n",
              "      <td>158199</td>\n",
              "      <td>Regular</td>\n",
              "    </tr>\n",
              "    <tr>\n",
              "      <th>5</th>\n",
              "      <td>PE</td>\n",
              "      <td>RECIFE</td>\n",
              "      <td>CAMPINADOBARRETO</td>\n",
              "      <td>2021-01-01</td>\n",
              "      <td>2009-08-31 00:00:00</td>\n",
              "      <td>171188</td>\n",
              "      <td>Regular</td>\n",
              "    </tr>\n",
              "    <tr>\n",
              "      <th>6</th>\n",
              "      <td>PE</td>\n",
              "      <td>JABOATAODOSGUARARAPES</td>\n",
              "      <td>PIEDADE</td>\n",
              "      <td>2021-01-01</td>\n",
              "      <td>2009-11-06 00:00:00</td>\n",
              "      <td>185186</td>\n",
              "      <td>Regular</td>\n",
              "    </tr>\n",
              "    <tr>\n",
              "      <th>...</th>\n",
              "      <td>...</td>\n",
              "      <td>...</td>\n",
              "      <td>...</td>\n",
              "      <td>...</td>\n",
              "      <td>...</td>\n",
              "      <td>...</td>\n",
              "      <td>...</td>\n",
              "    </tr>\n",
              "    <tr>\n",
              "      <th>117530</th>\n",
              "      <td>PE</td>\n",
              "      <td>RECIFE</td>\n",
              "      <td>BOAVIAGEM</td>\n",
              "      <td>2021-10-26</td>\n",
              "      <td>2021-11-24 00:00:00</td>\n",
              "      <td>292077</td>\n",
              "      <td>Inadimplente</td>\n",
              "    </tr>\n",
              "    <tr>\n",
              "      <th>117531</th>\n",
              "      <td>PE</td>\n",
              "      <td>RECIFE</td>\n",
              "      <td>ESTANCIA</td>\n",
              "      <td>2021-10-14</td>\n",
              "      <td>2021-11-08 00:00:00</td>\n",
              "      <td>265461</td>\n",
              "      <td>Inadimplente</td>\n",
              "    </tr>\n",
              "    <tr>\n",
              "      <th>117534</th>\n",
              "      <td>PE</td>\n",
              "      <td>OLINDA</td>\n",
              "      <td>VARADOURO</td>\n",
              "      <td>2021-11-04</td>\n",
              "      <td>2021-11-29 00:00:00</td>\n",
              "      <td>269505</td>\n",
              "      <td>Inadimplente</td>\n",
              "    </tr>\n",
              "    <tr>\n",
              "      <th>117536</th>\n",
              "      <td>PE</td>\n",
              "      <td>RECIFE</td>\n",
              "      <td>JARDIM.ATLANTICO</td>\n",
              "      <td>2021-10-02</td>\n",
              "      <td>2021-11-11 00:00:00</td>\n",
              "      <td>601427</td>\n",
              "      <td>Inadimplente</td>\n",
              "    </tr>\n",
              "    <tr>\n",
              "      <th>117539</th>\n",
              "      <td>PE</td>\n",
              "      <td>PAULISTA</td>\n",
              "      <td>JARDIMPAULISTA</td>\n",
              "      <td>2014-07-24</td>\n",
              "      <td>2014-08-14 00:00:00</td>\n",
              "      <td>436188</td>\n",
              "      <td>Regular</td>\n",
              "    </tr>\n",
              "  </tbody>\n",
              "</table>\n",
              "<p>105660 rows × 7 columns</p>\n",
              "</div>"
            ],
            "text/plain": [
              "       Estado              Municipio  ... Cliente        status\n",
              "2          PE                 RECIFE  ...  149735       Regular\n",
              "3          PE               PAULISTA  ...  149596       Regular\n",
              "4          PE                 RECIFE  ...  158199       Regular\n",
              "5          PE                 RECIFE  ...  171188       Regular\n",
              "6          PE  JABOATAODOSGUARARAPES  ...  185186       Regular\n",
              "...       ...                    ...  ...     ...           ...\n",
              "117530     PE                 RECIFE  ...  292077  Inadimplente\n",
              "117531     PE                 RECIFE  ...  265461  Inadimplente\n",
              "117534     PE                 OLINDA  ...  269505  Inadimplente\n",
              "117536     PE                 RECIFE  ...  601427  Inadimplente\n",
              "117539     PE               PAULISTA  ...  436188       Regular\n",
              "\n",
              "[105660 rows x 7 columns]"
            ]
          },
          "metadata": {},
          "execution_count": 103
        }
      ]
    },
    {
      "cell_type": "markdown",
      "metadata": {
        "id": "LQwgvHkZT9YE"
      },
      "source": [
        "# Situação da base"
      ]
    },
    {
      "cell_type": "code",
      "metadata": {
        "colab": {
          "base_uri": "https://localhost:8080/",
          "height": 319
        },
        "id": "YxIWwPGmULtM",
        "outputId": "0c93a931-2166-4ef3-f31f-96083a28d68d"
      },
      "source": [
        "# Visualizando a distribuição pelas regiões\n",
        "count = lista['Municipio'].groupby(lista.Estado).value_counts().sort_values(ascending=False).head(5)\n",
        "count.plot(kind='pie', figsize=(14.8,5),colors=['#66bba2',\"#20257C\",\"#424ad1\",\"#6a8ee8\",\"#66bbe2\"],explode=(0.2,0,0,0,0), shadow=True, autopct='%1.1f%%' )\n",
        "plt.title(\"Distribuição dos clientes\")\n",
        "plt.axis(\"equal\")\n",
        "plt.show()"
      ],
      "execution_count": 104,
      "outputs": [
        {
          "output_type": "display_data",
          "data": {
            "image/png": "[encoded data removed]",
            "text/plain": [
              "<Figure size 1065.6x360 with 1 Axes>"
            ]
          },
          "metadata": {}
        }
      ]
    },
    {
      "cell_type": "code",
      "metadata": {
        "colab": {
          "base_uri": "https://localhost:8080/",
          "height": 319
        },
        "id": "mxxW0ZZlg1F6",
        "outputId": "58f5e10f-aa6a-4edf-e54b-cf4546844f24"
      },
      "source": [
        "count = lista['status'].value_counts()\n",
        "count.plot(kind='pie', figsize=(14.8,5),colors=['#66bba2',\"#a51b0b\"], explode=(0.2,0), shadow=True, autopct='%1.1f%%' )\n",
        "plt.title(\"Distribuição pelo perfil de pagamento \")\n",
        "plt.axis(\"equal\")\n",
        "plt.show()"
      ],
      "execution_count": 126,
      "outputs": [
        {
          "output_type": "display_data",
          "data": {
            "image/png": "[encoded data removed]",
            "text/plain": [
              "<Figure size 1065.6x360 with 1 Axes>"
            ]
          },
          "metadata": {}
        }
      ]
    },
    {
      "cell_type": "code",
      "metadata": {
        "colab": {
          "base_uri": "https://localhost:8080/",
          "height": 319
        },
        "id": "8dbBI2LSXBQ9",
        "outputId": "84c20633-b0c1-4787-ba2a-18b575390ef9"
      },
      "source": [
        "# visualizando a distribuição de perfil de pagamento\n",
        "Inadimplente=lista['status']==\"Inadimplente\"\n",
        "filtered_df = lista[Inadimplente]\n",
        "\n",
        "count = filtered_df['status'].groupby(filtered_df.Municipio).value_counts().sort_values(ascending=False).head(5)\n",
        "count.plot(kind='pie', figsize=(14.8,5),colors=['#66bba2',\"#20257C\",\"#424ad1\",\"#6a8ee8\",\"#66bbe2\"],explode=(0.2,0,0,0,0), shadow=True, autopct='%1.1f%%' )\n",
        "plt.title(\"Distribuição pelo perfil de pagamento \")\n",
        "plt.axis(\"equal\")\n",
        "plt.show()"
      ],
      "execution_count": 127,
      "outputs": [
        {
          "output_type": "display_data",
          "data": {
            "image/png": "[encoded data removed]",
            "text/plain": [
              "<Figure size 1065.6x360 with 1 Axes>"
            ]
          },
          "metadata": {}
        }
      ]
    },
    {
      "cell_type": "markdown",
      "metadata": {
        "id": "lDAoHXYxhtgb"
      },
      "source": [
        "# Prevendo algumas situações"
      ]
    },
    {
      "cell_type": "code",
      "metadata": {
        "id": "FjxCpIXrhzHd"
      },
      "source": [
        "#Inicialmente irei transformar a coluna genero em categoria, para que fique como numero\n",
        "#esses dados serão minhas features\n",
        "labelencoder_X=LabelEncoder()\n",
        "cols = ['status', 'Municipio']\n",
        "X = lista.loc[:, cols].values\n",
        "X[:,0] = labelencoder_X.fit_transform(X[:,0])\n",
        "X[:,1] = labelencoder_X.fit_transform(X[:,1])\n",
        "\n",
        "#Irei definir meu target\n",
        "y = lista.status"
      ],
      "execution_count": 143,
      "outputs": []
    },
    {
      "cell_type": "code",
      "metadata": {
        "colab": {
          "base_uri": "https://localhost:8080/"
        },
        "id": "Wg6E7rhoiBaW",
        "outputId": "ae97b9ac-3dc4-4e76-d009-e7d1aa519fdc"
      },
      "source": [
        "#vamos realizar o particionamento direto com o scikit para treinamento\n",
        "X_train, X_test, y_train, y_test = train_test_split(X, y, test_size=0.3, random_state=0)\n",
        "print('Existem {} amostras de treino e {} amostras de teste'.format(X_train.shape[0], X_test.shape[0]))"
      ],
      "execution_count": 144,
      "outputs": [
        {
          "output_type": "stream",
          "name": "stdout",
          "text": [
            "Existem 73962 amostras de treino e 31698 amostras de teste\n"
          ]
        }
      ]
    },
    {
      "cell_type": "code",
      "metadata": {
        "id": "gpAK_qfPiDbP"
      },
      "source": [
        "#Vamos normalizar os dados\n",
        "sc = StandardScaler()\n",
        "sc.fit(X_train)\n",
        "X_train_normalizado = sc.transform(X_train)\n",
        "X_test_normalizado = sc.transform(X_test)\n",
        "X_normalizado = np.vstack((X_train_normalizado, X_test_normalizado))\n",
        "y_normalizado = np.hstack((y_train, y_test))"
      ],
      "execution_count": 145,
      "outputs": []
    },
    {
      "cell_type": "code",
      "metadata": {
        "id": "9B9F9gC0jOpX"
      },
      "source": [
        ""
      ],
      "execution_count": null,
      "outputs": []
    },
    {
      "cell_type": "markdown",
      "metadata": {
        "id": "HKtJD9FYt6s8"
      },
      "source": [
        "# Fontes\n"
      ]
    },
    {
      "cell_type": "markdown",
      "metadata": {
        "id": "WOzHo3EmuC1i"
      },
      "source": [
        "https://bhadreshpsavani.medium.com/how-to-use-tesseract-library-for-ocr-in-google-colab-notebook-5da5470e4fe0\n",
        "<br>https://pypi.org/project/pytesseract/\n",
        "<br>https://medium.com/swlh/text-classification-using-the-bag-of-words-approach-with-nltk-and-scikit-learn-9a731e5c4e2f\n",
        "<br>https://minerandodados.com.br/como-preparar-dados-de-texto-para-machine-learning/\n",
        "<br>https://www.alura.com.br/artigos/como-remover-linhas-e-colunas-no-pandas"
      ]
    }
  ]
}